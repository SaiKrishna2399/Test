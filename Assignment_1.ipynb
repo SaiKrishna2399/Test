{
  "nbformat": 4,
  "nbformat_minor": 0,
  "metadata": {
    "colab": {
      "provenance": [],
      "collapsed_sections": [],
      "authorship_tag": "ABX9TyNIvyeZ4yB3Qx94NZMB+ukw",
      "include_colab_link": true
    },
    "kernelspec": {
      "name": "python3",
      "display_name": "Python 3"
    },
    "language_info": {
      "name": "python"
    }
  },
  "cells": [
    {
      "cell_type": "markdown",
      "metadata": {
        "id": "view-in-github",
        "colab_type": "text"
      },
      "source": [
        "<a href=\"https://colab.research.google.com/github/SaiKrishna2399/Test/blob/main/Assignment_1.ipynb\" target=\"_parent\"><img src=\"https://colab.research.google.com/assets/colab-badge.svg\" alt=\"Open In Colab\"/></a>"
      ]
    },
    {
      "cell_type": "code",
      "source": [
        "#Running First Print Statement\n",
        "print(\"Hello, World!\")\n",
        "#second print statement\n",
        "print(\"\\N{WAVING HAND SIGN}, \\N{EARTH GLOBE ASIA-AUSTRALIA}!\")\n",
        "#Changing THE print statement such that it displays the expected output\n",
        "print(\"First this line is printed,\")\n",
        "print(\"then the whole \\N{EARTH GLOBE ASIA-AUSTRALIA},\")\n",
        "print(\"and then this one.\")"
      ],
      "metadata": {
        "colab": {
          "base_uri": "https://localhost:8080/"
        },
        "id": "LZJNqPtwV1d5",
        "outputId": "6cc56df0-c341-4642-86f8-11116aeefe9d"
      },
      "execution_count": 10,
      "outputs": [
        {
          "output_type": "stream",
          "name": "stdout",
          "text": [
            "Hello, World!\n",
            "👋, 🌏!\n",
            "First this line is printed,\n",
            "then the whole 🌏,\n",
            "and then this one.\n"
          ]
        }
      ]
    },
    {
      "cell_type": "code",
      "source": [
        "#ERROR Statement\n",
        "print(\"This line is missing something.\"\n",
        "#Corrected Sentence\n",
        "print(\"This line is missing something.\")"
      ],
      "metadata": {
        "colab": {
          "base_uri": "https://localhost:8080/",
          "height": 131
        },
        "id": "txaVU1Z1XLrr",
        "outputId": "9a013688-2348-44cb-8779-72dca5d576e2"
      },
      "execution_count": 15,
      "outputs": [
        {
          "output_type": "error",
          "ename": "SyntaxError",
          "evalue": "ignored",
          "traceback": [
            "\u001b[0;36m  File \u001b[0;32m\"<ipython-input-15-1840da56788d>\"\u001b[0;36m, line \u001b[0;32m4\u001b[0m\n\u001b[0;31m    print(\"This line is missing something.\")\u001b[0m\n\u001b[0m        ^\u001b[0m\n\u001b[0;31mSyntaxError\u001b[0m\u001b[0;31m:\u001b[0m invalid syntax\n"
          ]
        }
      ]
    },
    {
      "cell_type": "code",
      "source": [
        "#Numbers\n",
        "3.2500"
      ],
      "metadata": {
        "colab": {
          "base_uri": "https://localhost:8080/"
        },
        "id": "BkHSLcadXj5_",
        "outputId": "55398eb3-5e00-4dcb-fc7e-6d252be8a036"
      },
      "execution_count": 20,
      "outputs": [
        {
          "output_type": "execute_result",
          "data": {
            "text/plain": [
              "3.25"
            ]
          },
          "metadata": {},
          "execution_count": 20
        }
      ]
    },
    {
      "cell_type": "code",
      "source": [
        "print(2)\n",
        "3\n",
        "4"
      ],
      "metadata": {
        "colab": {
          "base_uri": "https://localhost:8080/"
        },
        "id": "kAltBhVsYFf4",
        "outputId": "f521debe-3bc5-49f6-a379-21f13aa131f2"
      },
      "execution_count": 21,
      "outputs": [
        {
          "output_type": "stream",
          "name": "stdout",
          "text": [
            "2\n"
          ]
        },
        {
          "output_type": "execute_result",
          "data": {
            "text/plain": [
              "4"
            ]
          },
          "metadata": {},
          "execution_count": 21
        }
      ]
    },
    {
      "cell_type": "code",
      "source": [
        "#arthmetic\n",
        "3.25 - 1.5"
      ],
      "metadata": {
        "colab": {
          "base_uri": "https://localhost:8080/"
        },
        "id": "T_jM39Q3YMzW",
        "outputId": "a33c569d-1fd7-4617-d016-6ea35a4473ce"
      },
      "execution_count": 23,
      "outputs": [
        {
          "output_type": "execute_result",
          "data": {
            "text/plain": [
              "-720.0"
            ]
          },
          "metadata": {},
          "execution_count": 23
        }
      ]
    },
    {
      "cell_type": "code",
      "source": [
        "6+6*5-6*3**2*2**3/4*7"
      ],
      "metadata": {
        "colab": {
          "base_uri": "https://localhost:8080/"
        },
        "id": "HRIHnD-LYcLh",
        "outputId": "07e7c779-52e2-409a-912e-029e4da00095"
      },
      "execution_count": 24,
      "outputs": [
        {
          "output_type": "execute_result",
          "data": {
            "text/plain": [
              "-720.0"
            ]
          },
          "metadata": {},
          "execution_count": 24
        }
      ]
    },
    {
      "cell_type": "code",
      "source": [
        "6+(6*5-(6*3))**2*((2**3)/4*7)"
      ],
      "metadata": {
        "colab": {
          "base_uri": "https://localhost:8080/"
        },
        "id": "L_q5fi1aZ-h6",
        "outputId": "1fc9a677-c6e2-4d9b-a853-e5e6fcbecd33"
      },
      "execution_count": 28,
      "outputs": [
        {
          "output_type": "execute_result",
          "data": {
            "text/plain": [
              "2022.0"
            ]
          },
          "metadata": {},
          "execution_count": 28
        }
      ]
    },
    {
      "cell_type": "code",
      "source": [
        "#Names\n",
        "ten = 3 * 2 + 4\n",
        "print(ten)"
      ],
      "metadata": {
        "colab": {
          "base_uri": "https://localhost:8080/"
        },
        "id": "t0LglP64Y9Jf",
        "outputId": "b51b2c93-b301-4010-ef88-d94aec743fe0"
      },
      "execution_count": 26,
      "outputs": [
        {
          "output_type": "stream",
          "name": "stdout",
          "text": [
            "10\n"
          ]
        }
      ]
    },
    {
      "cell_type": "code",
      "source": [
        "#Error Statement Due to undefined variable\n",
        "eleven + 8"
      ],
      "metadata": {
        "colab": {
          "base_uri": "https://localhost:8080/",
          "height": 184
        },
        "id": "Y9yyQM_kZbeB",
        "outputId": "8f1e002a-ffff-4c95-ee7f-06c5e5cbab63"
      },
      "execution_count": 27,
      "outputs": [
        {
          "output_type": "error",
          "ename": "NameError",
          "evalue": "ignored",
          "traceback": [
            "\u001b[0;31m---------------------------------------------------------------------------\u001b[0m",
            "\u001b[0;31mNameError\u001b[0m                                 Traceback (most recent call last)",
            "\u001b[0;32m<ipython-input-27-e48f0839af0c>\u001b[0m in \u001b[0;36m<module>\u001b[0;34m\u001b[0m\n\u001b[1;32m      1\u001b[0m \u001b[0;31m#Error Statement Due to undefined variable\u001b[0m\u001b[0;34m\u001b[0m\u001b[0;34m\u001b[0m\u001b[0;34m\u001b[0m\u001b[0m\n\u001b[0;32m----> 2\u001b[0;31m \u001b[0meleven\u001b[0m \u001b[0;34m+\u001b[0m \u001b[0;36m8\u001b[0m\u001b[0;34m\u001b[0m\u001b[0;34m\u001b[0m\u001b[0m\n\u001b[0m",
            "\u001b[0;31mNameError\u001b[0m: name 'eleven' is not defined"
          ]
        }
      ]
    },
    {
      "cell_type": "code",
      "source": [
        "#Close to Pi Value\n",
        "close_to_pi = 355/113\n",
        "close_to_pi"
      ],
      "metadata": {
        "colab": {
          "base_uri": "https://localhost:8080/"
        },
        "id": "NitJt9POZonx",
        "outputId": "a6d0541a-eced-4ec6-b157-1e40af76dec9"
      },
      "execution_count": 29,
      "outputs": [
        {
          "output_type": "execute_result",
          "data": {
            "text/plain": [
              "3.1415929203539825"
            ]
          },
          "metadata": {},
          "execution_count": 29
        }
      ]
    },
    {
      "cell_type": "code",
      "source": [
        "#Salary per year - Underscore in variables\n",
        "semimonthly_salary = 1842.5\n",
        "monthly_salary = 2 * semimonthly_salary\n",
        "number_of_months_in_a_year = 12\n",
        "yearly_salary = number_of_months_in_a_year * monthly_salary\n",
        "print(yearly_salary)"
      ],
      "metadata": {
        "colab": {
          "base_uri": "https://localhost:8080/"
        },
        "id": "SXi1t6o0aYWC",
        "outputId": "cfe72611-87c6-43db-e20c-16c882376d37"
      },
      "execution_count": 30,
      "outputs": [
        {
          "output_type": "stream",
          "name": "stdout",
          "text": [
            "44220.0\n"
          ]
        }
      ]
    },
    {
      "cell_type": "code",
      "source": [
        "#Naming Coviction of variables\n",
        "a = 842.5\n",
        "b = 2 * a\n",
        "c = 12\n",
        "d = c * b\n",
        "print(d)"
      ],
      "metadata": {
        "colab": {
          "base_uri": "https://localhost:8080/"
        },
        "id": "9d0EJq3FbKi7",
        "outputId": "6b8ba5c0-ebf8-41c4-dbff-0e1034bd5e3f"
      },
      "execution_count": 31,
      "outputs": [
        {
          "output_type": "stream",
          "name": "stdout",
          "text": [
            "20220.0\n"
          ]
        }
      ]
    },
    {
      "cell_type": "code",
      "source": [
        "#Comments to describe the code\n",
        "# Change the next line \n",
        "# so that it computes the number of seconds in a decade \n",
        "# and assigns that number the name, seconds_in_a_decade."
      ],
      "metadata": {
        "id": "KnbcIZdZbjvV"
      },
      "execution_count": 34,
      "outputs": []
    },
    {
      "cell_type": "code",
      "source": [
        "#Code for displaying YouTube Video\n",
        "from IPython.display import YouTubeVideo\n",
        "# The original URL is:\n",
        "# https://www.youtube.com/watch?v=U7db6ZeLR5s\n",
        "YouTubeVideo(\"U7db6ZeLR5s\")"
      ],
      "metadata": {
        "colab": {
          "base_uri": "https://localhost:8080/",
          "height": 321
        },
        "id": "CHy3LLTJb-fK",
        "outputId": "e4012c60-68d3-44b1-86b9-7e3cd1278512"
      },
      "execution_count": 35,
      "outputs": [
        {
          "output_type": "execute_result",
          "data": {
            "text/plain": [
              "<IPython.lib.display.YouTubeVideo at 0x7f59635dff90>"
            ],
            "text/html": [
              "\n",
              "        <iframe\n",
              "            width=\"400\"\n",
              "            height=\"300\"\n",
              "            src=\"https://www.youtube.com/embed/U7db6ZeLR5s\"\n",
              "            frameborder=\"0\"\n",
              "            allowfullscreen\n",
              "        ></iframe>\n",
              "        "
            ],
            "image/jpeg": "[encoded data removed]"
          },
          "metadata": {},
          "execution_count": 35
        }
      ]
    },
    {
      "cell_type": "code",
      "source": [
        "#Difference between predicted distance and esitamed distance\n",
        "time = 1.1\n",
        "round(time, 5) == 1.1 \n",
        "estimated_distance_m = 1.2\n",
        "round(estimated_distance_m, 5) == 1.2\n",
        "gravity_constant = 6.674 * 10**-11\n",
        "moon_mass_kg = 7.34767309 * 10**22\n",
        "moon_radius_m = 1.737 * 10**6\n",
        "predicted_distance_m = 1/2+gravity_constant+moon_mass_kg/moon_radius_m**2*1.1**2 \n",
        "difference = predicted_distance_m - estimated_distance_m\n",
        "print(\"The difference is : \",difference )\n",
        "\n"
      ],
      "metadata": {
        "colab": {
          "base_uri": "https://localhost:8080/"
        },
        "id": "1nFJ7I1ncbNJ",
        "outputId": "0b09d518-b996-40c2-bf64-c41fe43ff553"
      },
      "execution_count": 41,
      "outputs": [
        {
          "output_type": "stream",
          "name": "stdout",
          "text": [
            "The difference is :  29466975296.010265\n"
          ]
        }
      ]
    },
    {
      "cell_type": "code",
      "source": [
        "#Caling Function - abs\n",
        "print(abs(5))\n",
        "print(abs(-5))"
      ],
      "metadata": {
        "colab": {
          "base_uri": "https://localhost:8080/"
        },
        "id": "qNfsSUyJsGGN",
        "outputId": "ce728850-645b-4701-e2e2-e85613b26011"
      },
      "execution_count": 42,
      "outputs": [
        {
          "output_type": "stream",
          "name": "stdout",
          "text": [
            "5\n",
            "5\n"
          ]
        }
      ]
    },
    {
      "cell_type": "code",
      "source": [
        "#finding manhattan_distance\n",
        "num_streets_away = abs(42-34)\n",
        "num_avenues_away = abs(7-10)\n",
        "street_length_m = 80\n",
        "avenue_length_m = 274\n",
        "manhattan_distance = street_length_m*num_streets_away + avenue_length_m*num_avenues_away\n",
        "print(manhattan_distance)"
      ],
      "metadata": {
        "colab": {
          "base_uri": "https://localhost:8080/"
        },
        "id": "NZ7iwvNqsze0",
        "outputId": "75337bef-ad33-4b3e-ad45-2f052e09c633"
      },
      "execution_count": 52,
      "outputs": [
        {
          "output_type": "stream",
          "name": "stdout",
          "text": [
            "1462\n"
          ]
        }
      ]
    },
    {
      "cell_type": "code",
      "source": [
        "#Max Value Difference\n",
        "ravioli_length_in = 21.7\n",
        "genghis_length_in = 16.7\n",
        "average_cat_length = 18.2\n",
        "\n",
        "# The larger distance from the average cat length, among the two length:\n",
        "larger_distance_in = max(abs(ravioli_length_in - average_cat_length), abs(genghis_length_in - average_cat_length))\n",
        "\n",
        "# Print out our results in a nice readable format:\n",
        "print(\"The larger distance from the average length among these two cats is\", larger_distance_in, \"inches.\")\n"
      ],
      "metadata": {
        "colab": {
          "base_uri": "https://localhost:8080/"
        },
        "id": "LlYGtgJCvQuR",
        "outputId": "766b9f6c-3101-4d0b-d454-f6495ffe6842"
      },
      "execution_count": 44,
      "outputs": [
        {
          "output_type": "stream",
          "name": "stdout",
          "text": [
            "The larger distance from the average length among these two cats is 3.5 inches.\n"
          ]
        }
      ]
    },
    {
      "cell_type": "code",
      "source": [
        "#MIN Follow up question\n",
        "hummus =  24.5\n",
        "gatkes = 19.7 \n",
        "zeepty = 15.8 \n",
        "min_length_difference = min(abs(hummus - zeepty), abs(gatkes - zeepty))\n",
        "print(min_length_difference)"
      ],
      "metadata": {
        "colab": {
          "base_uri": "https://localhost:8080/"
        },
        "id": "DlSWmiqfvh8b",
        "outputId": "9c7506b7-1f64-4290-bbd5-76bb2c65783d"
      },
      "execution_count": 45,
      "outputs": [
        {
          "output_type": "stream",
          "name": "stdout",
          "text": [
            "3.8999999999999986\n"
          ]
        }
      ]
    },
    {
      "cell_type": "code",
      "source": [
        "#Python Questions\n",
        "#Question 1\n",
        "frequency = {}\n",
        "str1 = 'google.com' \n",
        "\n",
        "for i in str1:\n",
        "    if i in frequency:\n",
        "        frequency[i] += 1\n",
        "    else:\n",
        "        frequency[i] = 1\n",
        "        \n",
        "\n",
        "\n",
        "#print(\"The frequency\"  + \" is\",frequency)\n",
        "\n",
        "\n",
        "sorted_dict = dict( sorted(frequency.items(),\n",
        "                           key=lambda item: item[1],\n",
        "                           reverse=True))\n",
        "print(sorted_dict)"
      ],
      "metadata": {
        "colab": {
          "base_uri": "https://localhost:8080/"
        },
        "id": "11ulCZ0bzm3m",
        "outputId": "64ad3156-9759-4d16-f123-f621e024c62a"
      },
      "execution_count": 46,
      "outputs": [
        {
          "output_type": "stream",
          "name": "stdout",
          "text": [
            "{'o': 3, 'g': 2, 'l': 1, 'e': 1, '.': 1, 'c': 1, 'm': 1}\n"
          ]
        }
      ]
    },
    {
      "cell_type": "code",
      "source": [
        "# Question 2\n",
        "word=input()\n",
        "len_word=len(word)\n",
        "storage=word[0]\n",
        "Modified_string=word[0]\n",
        "for i in range(1,len_word):\n",
        "    \n",
        "    if storage==word[i]:\n",
        "        Modified_string=Modified_string+\"$\"\n",
        "        #print(Modified_string)\n",
        "    else:\n",
        "        Modified_string=Modified_string+word[i]\n",
        "        #print(Modified_string)\n",
        "        \n",
        "print(Modified_string)"
      ],
      "metadata": {
        "colab": {
          "base_uri": "https://localhost:8080/"
        },
        "id": "GZJ_K_kBz-aa",
        "outputId": "bb0160c6-66cf-4ea9-914d-6868b8537c36"
      },
      "execution_count": 48,
      "outputs": [
        {
          "output_type": "stream",
          "name": "stdout",
          "text": [
            "ginger\n",
            "gin$er\n"
          ]
        }
      ]
    },
    {
      "cell_type": "code",
      "source": [
        "# Question 3\n",
        "def Merge(dict_a,dict_b,dict_c):\n",
        "    dict_a.update(dict_b)\n",
        "    dict_a.update(dict_c)\n",
        "    new_dict=dict_a\n",
        "    return new_dict\n",
        "    \n",
        "new1={}\n",
        "dict_a={1:10,2:20,3:30}\n",
        "dict_b={4:40,5:50,6:60}\n",
        "dict_c={7:70,8:80,9:90}\n",
        "final_dict=Merge(dict_a,dict_b,dict_c)\n",
        "print(final_dict)"
      ],
      "metadata": {
        "colab": {
          "base_uri": "https://localhost:8080/"
        },
        "id": "dkgRlyVL0VZH",
        "outputId": "4cb3abef-4cb0-4566-c838-d73c6999634d"
      },
      "execution_count": 49,
      "outputs": [
        {
          "output_type": "stream",
          "name": "stdout",
          "text": [
            "{1: 10, 2: 20, 3: 30, 4: 40, 5: 50, 6: 60, 7: 70, 8: 80, 9: 90}\n"
          ]
        }
      ]
    },
    {
      "cell_type": "code",
      "source": [
        "# Question 4\n",
        "list_a=[\"apple\",\"banana\", \"grapes\"]\n",
        "test=input()\n",
        "count=0\n",
        "for i in range(len(list_a)):\n",
        "    if test==list_a[i]:\n",
        "        count += 1\n",
        "\n",
        "if count>=1:\n",
        "    print(\"True\")\n",
        "else:\n",
        "    print(\"False\")"
      ],
      "metadata": {
        "colab": {
          "base_uri": "https://localhost:8080/"
        },
        "id": "otH9cp0t0cl1",
        "outputId": "2daa5e09-387e-4a84-a5fc-128772d9bc8d"
      },
      "execution_count": 51,
      "outputs": [
        {
          "output_type": "stream",
          "name": "stdout",
          "text": [
            "apple\n",
            "True\n"
          ]
        }
      ]
    }
  ]
}